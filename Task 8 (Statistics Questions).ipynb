{
 "cells": [
  {
   "cell_type": "code",
   "execution_count": 4,
   "metadata": {},
   "outputs": [
    {
     "name": "stdout",
     "output_type": "stream",
     "text": [
      "6 3\n",
      "0.9\n"
     ]
    }
   ],
   "source": [
    "# Day 4 : Binomial Distribution - 1\n",
    "def fact(n):\n",
    "    return 1 if n == 0 else n*fact(n-1)\n",
    "\n",
    "def comb(n, x):\n",
    "    return fact(n) / (fact(x) * fact(n-x))\n",
    "\n",
    "def b(x, n, p):\n",
    "    return comb(n, x) * p**x * (1-p)**(n-x)\n",
    "\n",
    "l, r = list(map(float, input().split(\" \")))\n",
    "odds = l / r\n",
    "print(round(sum([b(i, 6, odds / (1 + odds)) for i in range(3, 7)]), 3))"
   ]
  },
  {
   "cell_type": "code",
   "execution_count": 6,
   "metadata": {},
   "outputs": [
    {
     "name": "stdout",
     "output_type": "stream",
     "text": [
      "0.891\n",
      "0.342\n"
     ]
    }
   ],
   "source": [
    "# Day 4 : Binomial Distribution - 1\n",
    "import math\n",
    "\n",
    "\n",
    "p = 0.12\n",
    "ans1 = 0\n",
    "for i in range(0, 3):\n",
    "    ans1 += math.factorial(10)/math.factorial(i)/math.factorial(10-i) * p**i * (1-p)**(10-i)\n",
    "    if i == 1:\n",
    "        ans2 = 1 - ans1\n",
    "\n",
    "print(round(ans1, 3))\n",
    "print(round(ans2, 3))"
   ]
  },
  {
   "cell_type": "code",
   "execution_count": 7,
   "metadata": {},
   "outputs": [
    {
     "name": "stdout",
     "output_type": "stream",
     "text": [
      "0.401\n",
      "0.341\n"
     ]
    }
   ],
   "source": [
    "# Day 5 : Normal Distribution - 1\n",
    "import math\n",
    "mean, std = 20, 2\n",
    "cdf = lambda x: 0.5 * (1 + math.erf((x - mean) / (std * (2 ** 0.5))))\n",
    "\n",
    "# Less than 19.5\n",
    "print('{:.3f}'.format(cdf(19.5)))\n",
    "# Between 20 and 22\n",
    "print('{:.3f}'.format(cdf(22) - cdf(20)))"
   ]
  },
  {
   "cell_type": "code",
   "execution_count": 8,
   "metadata": {},
   "outputs": [
    {
     "name": "stdout",
     "output_type": "stream",
     "text": [
      "15.87\n",
      "84.13\n",
      "15.87\n"
     ]
    }
   ],
   "source": [
    "# Day 5 : Normal Distribution - 2\n",
    "import math\n",
    "mean, std = 70, 10\n",
    "cdf = lambda x: 0.5 * (1 + math.erf((x - mean) / (std * (2 ** 0.5))))\n",
    "\n",
    "\n",
    "print(round((1-cdf(80))*100,2))\n",
    "print(round((1-cdf(60))*100,2))\n",
    "print(round((cdf(60))*100,2))# Enter your code here. Read input from STDIN. Print output to STDOUT"
   ]
  },
  {
   "cell_type": "code",
   "execution_count": 11,
   "metadata": {},
   "outputs": [
    {
     "name": "stdout",
     "output_type": "stream",
     "text": [
      "9800\n",
      "49\n",
      "205\n",
      "15\n",
      "0.0098\n"
     ]
    }
   ],
   "source": [
    "# Day 6 :The-central-limit-theorem-1\n",
    "import math\n",
    "weight=int(input())\n",
    "amount=int(input())\n",
    "mu=int(input())\n",
    "sd=int(input())\n",
    "print(round(1/2*(1+math.erf((weight-mu*amount)/(sd*math.sqrt(amount)*math.sqrt(2)))),4))"
   ]
  },
  {
   "cell_type": "code",
   "execution_count": 12,
   "metadata": {},
   "outputs": [
    {
     "name": "stdout",
     "output_type": "stream",
     "text": [
      "0.6915\n"
     ]
    }
   ],
   "source": [
    "# Day 6 :The-central-limit-theorem-2\n",
    "import math\n",
    "\n",
    "mean_ = 2.4*100\n",
    "std_ = 100**(1/2)*2.0\n",
    "\n",
    "cdf = lambda x: 0.5 * (1 + math.erf((x - mean_) / (std_ * (2 ** 0.5))))\n",
    "\n",
    "result = cdf(250.0)\n",
    "\n",
    "print ('{:.4f}'.format(result))"
   ]
  },
  {
   "cell_type": "code",
   "execution_count": 13,
   "metadata": {},
   "outputs": [
    {
     "name": "stdout",
     "output_type": "stream",
     "text": [
      "100\n",
      "500\n",
      "80\n",
      ".95\n",
      "1.96\n",
      "484.32\n",
      "515.68\n"
     ]
    }
   ],
   "source": [
    "# Day 6 :The-central-limit-theorem-3\n",
    "from math import sqrt\n",
    "\n",
    "s = int(input())\n",
    "mean = int(input())\n",
    "std = int(input())\n",
    "interval = float(input())\n",
    "z = float(input())\n",
    "print(round(mean - (std / sqrt(s)) * z, 2))\n",
    "print(round(mean + (std / sqrt(s)) * z, 2))"
   ]
  },
  {
   "cell_type": "code",
   "execution_count": 14,
   "metadata": {},
   "outputs": [
    {
     "name": "stdout",
     "output_type": "stream",
     "text": [
      "10\n",
      "10 9.8 8 7.8 7.7 7 6 5 4 2\n",
      "200 44 32 24 22 17 15 12 8 4\n",
      "0.612\n"
     ]
    }
   ],
   "source": [
    "# Day 7: Pearson Correlation Coefficient I\n",
    "\n",
    "if __name__=='__main__':\n",
    "    n=int(input())\n",
    "    X=list(map(float,input().split()))\n",
    "    Y=list(map(float,input().split()))\n",
    "    muX=sum(X)/n\n",
    "    muY=sum(Y)/n\n",
    "    sqX=[]\n",
    "    sqY=[]\n",
    "    proXY=[]\n",
    "    for i in range(n):\n",
    "        sqX.append((X[i]-muX)*(X[i]-muX))\n",
    "        sqY.append((Y[i]-muY)*(Y[i]-muY))\n",
    "        proXY.append((X[i]-muX)*(Y[i]-muY))\n",
    "    sigX=math.sqrt(sum(sqX)/n)\n",
    "    sigY=math.sqrt(sum(sqY)/n)\n",
    "    ans=sum(proXY)/(n*sigX*sigY)\n",
    "    print(round(ans,3))"
   ]
  },
  {
   "cell_type": "code",
   "execution_count": 16,
   "metadata": {},
   "outputs": [
    {
     "name": "stdout",
     "output_type": "stream",
     "text": [
      "95 85 \n",
      "85 95 \n",
      "80 70  \n",
      "70 65   \n",
      "60 70\n",
      "78.288\n"
     ]
    }
   ],
   "source": [
    "# Day 8:Least Square Regression Line\n",
    "n = 5\n",
    "x = []\n",
    "y = []\n",
    "for i in range(n):\n",
    "    xi, yi = map(int, input().split())\n",
    "    x.append(xi)\n",
    "    y.append(yi)\n",
    "sum_x = 0\n",
    "sum_y = 0\n",
    "sum_x_sq = 0\n",
    "sum_xy = 0\n",
    "for i,j in zip(x,y):\n",
    "    sum_x += i\n",
    "    sum_y += j\n",
    "    sum_x_sq += i**2\n",
    "    sum_xy += i*j\n",
    "mean_x = sum_x/n\n",
    "mean_y = sum_y/n\n",
    "b = (n*sum_xy - sum_x*sum_y)/(n*sum_x_sq - (sum_x**2))\n",
    "a = mean_y - b*mean_x\n",
    "y_hat = a + b*80\n",
    "print(round(y_hat,3))"
   ]
  },
  {
   "cell_type": "code",
   "execution_count": 17,
   "metadata": {},
   "outputs": [
    {
     "name": "stdout",
     "output_type": "stream",
     "text": [
      "2 7\n",
      "0.18 0.89 109.85\n",
      "1.0 0.26 155.72\n",
      "0.92 0.11 137.66\n",
      "0.07 0.37 76.17\n",
      "0.85 0.16 139.75\n",
      "0.99 0.41 162.6 \n",
      "0.87 0.47 151.77 \n",
      "4\n",
      "0.49 0.18 \n",
      "0.57 0.83 \n",
      "0.56 0.64 \n",
      "0.76 0.18\n",
      "105.21\n",
      "142.67\n",
      "132.94\n",
      "129.7\n"
     ]
    }
   ],
   "source": [
    "# Day 9: Multiple Linear Regression\n",
    "from sklearn import linear_model\n",
    "\n",
    "def solve(y, x, x_pred):\n",
    "  lm = linear_model.LinearRegression()\n",
    "  lm.fit(x, y)\n",
    "  y_pred = lm.predict(x_pred)\n",
    "  return y_pred\n",
    "\n",
    "def main():\n",
    "  m, n = map(int, input().strip().split())\n",
    "  y = []; x = []; x_pred = []\n",
    "  for _ in range(n):\n",
    "    *features, y_val = map(float, input().strip().split())\n",
    "    x.append(features)\n",
    "    y.append(y_val)\n",
    "\n",
    "  for _ in range(int(input())):\n",
    "    features = list(map(float, input().strip().split()))\n",
    "    x_pred.append(features)\n",
    "\n",
    "  answer = solve(y, x, x_pred)\n",
    "  for num in answer:\n",
    "    print(round(num, 2))\n",
    "\n",
    "if __name__ == \"__main__\":\n",
    "  main()\n"
   ]
  },
  {
   "cell_type": "code",
   "execution_count": null,
   "metadata": {},
   "outputs": [],
   "source": []
  }
 ],
 "metadata": {
  "kernelspec": {
   "display_name": "Python 3",
   "language": "python",
   "name": "python3"
  },
  "language_info": {
   "codemirror_mode": {
    "name": "ipython",
    "version": 3
   },
   "file_extension": ".py",
   "mimetype": "text/x-python",
   "name": "python",
   "nbconvert_exporter": "python",
   "pygments_lexer": "ipython3",
   "version": "3.7.6"
  }
 },
 "nbformat": 4,
 "nbformat_minor": 4
}
