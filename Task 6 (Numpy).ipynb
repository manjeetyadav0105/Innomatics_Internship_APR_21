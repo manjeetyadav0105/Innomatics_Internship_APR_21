{
 "cells": [
  {
   "cell_type": "code",
   "execution_count": 3,
   "metadata": {},
   "outputs": [
    {
     "name": "stdout",
     "output_type": "stream",
     "text": [
      "1 2 3 4 -8 -10\n",
      "[-10.  -8.   4.   3.   2.   1.]\n"
     ]
    }
   ],
   "source": [
    "#1\n",
    "import numpy\n",
    "def arrays(arr):\n",
    "    a=numpy.array(arr,float)\n",
    "    return a[::-1]\n",
    "arr = input().strip().split(' ')\n",
    "result = arrays(arr)\n",
    "print(result)"
   ]
  },
  {
   "cell_type": "code",
   "execution_count": 4,
   "metadata": {},
   "outputs": [
    {
     "name": "stdout",
     "output_type": "stream",
     "text": [
      "1 2 3 4 5 6 7 8 9\n",
      "[[1 2 3]\n",
      " [4 5 6]\n",
      " [7 8 9]]\n"
     ]
    }
   ],
   "source": [
    "#2\n",
    "import numpy\n",
    "def reshape(arr):\n",
    "    a=numpy.array(arr,int)\n",
    "    return numpy.reshape(a,(3,3))\n",
    "arr=input().strip().split(' ')\n",
    "result=reshape(arr)\n",
    "print(result)  "
   ]
  },
  {
   "cell_type": "code",
   "execution_count": 5,
   "metadata": {},
   "outputs": [
    {
     "name": "stdout",
     "output_type": "stream",
     "text": [
      "2 2\n",
      "1 2\n",
      "3 4\n",
      "[[1 3]\n",
      " [2 4]]\n",
      "[1 2 3 4]\n"
     ]
    }
   ],
   "source": [
    "# Function 3: Transpose and Flatten\n",
    "import numpy\n",
    "N, M = list(map(int, input().split()))\n",
    "a = numpy.array([input().split() for _ in range(N)], int)\n",
    "print(a.transpose())\n",
    "print(a.flatten())"
   ]
  },
  {
   "cell_type": "code",
   "execution_count": 6,
   "metadata": {},
   "outputs": [
    {
     "name": "stdout",
     "output_type": "stream",
     "text": [
      "4 3 2\n",
      "1 2\n",
      "1 2\n",
      "1 2\n",
      "1 2\n",
      "3 4\n",
      "3 4\n",
      "3 4\n",
      "[[1 2]\n",
      " [1 2]\n",
      " [1 2]\n",
      " [1 2]\n",
      " [3 4]\n",
      " [3 4]\n",
      " [3 4]]\n"
     ]
    }
   ],
   "source": [
    "# Function 4: Concatenate\n",
    "import numpy\n",
    "N,M,P=list(map(int,input().split()))\n",
    "arr1=numpy.array([input().split() for i in range(N)],int)\n",
    "arr2=numpy.array([input().split() for j in range(M)],int)\n",
    "print(numpy.concatenate((arr1,arr2),axis=0))\n"
   ]
  },
  {
   "cell_type": "code",
   "execution_count": 7,
   "metadata": {},
   "outputs": [
    {
     "name": "stdout",
     "output_type": "stream",
     "text": [
      "3 3 3\n",
      "[[[0 0 0]\n",
      "  [0 0 0]\n",
      "  [0 0 0]]\n",
      "\n",
      " [[0 0 0]\n",
      "  [0 0 0]\n",
      "  [0 0 0]]\n",
      "\n",
      " [[0 0 0]\n",
      "  [0 0 0]\n",
      "  [0 0 0]]]\n",
      "[[[1 1 1]\n",
      "  [1 1 1]\n",
      "  [1 1 1]]\n",
      "\n",
      " [[1 1 1]\n",
      "  [1 1 1]\n",
      "  [1 1 1]]\n",
      "\n",
      " [[1 1 1]\n",
      "  [1 1 1]\n",
      "  [1 1 1]]]\n"
     ]
    }
   ],
   "source": [
    "# Function 5: Zeros and ones\n",
    "\n",
    "import numpy\n",
    "num=list(map(int,input().split()))\n",
    "print(numpy.zeros(num,dtype=numpy.int))\n",
    "print(numpy.ones(num,dtype=numpy.int))"
   ]
  },
  {
   "cell_type": "code",
   "execution_count": 8,
   "metadata": {},
   "outputs": [
    {
     "name": "stdout",
     "output_type": "stream",
     "text": [
      "3 3\n",
      "[[ 1.  0.  0.]\n",
      " [ 0.  1.  0.]\n",
      " [ 0.  0.  1.]]\n"
     ]
    }
   ],
   "source": [
    "# Function 6: Eye and Identity\n",
    "\n",
    "import numpy\n",
    "N,M=list(map(int,input().split()))\n",
    "numpy.set_printoptions(sign=' ')\n",
    "print(numpy.eye(N,M))\n"
   ]
  },
  {
   "cell_type": "code",
   "execution_count": 9,
   "metadata": {},
   "outputs": [
    {
     "name": "stdout",
     "output_type": "stream",
     "text": [
      "1 4\n",
      "1 2 3 4\n",
      "5 6 7 8\n",
      "[[ 6  8 10 12]]\n",
      "[[-4 -4 -4 -4]]\n",
      "[[ 5 12 21 32]]\n",
      "[[0 0 0 0]]\n",
      "[[1 2 3 4]]\n",
      "[[    1    64  2187 65536]]\n"
     ]
    }
   ],
   "source": [
    "# Function 7: Array Mathematics\n",
    "\n",
    "import numpy\n",
    "N,M=list(map(int,input().split()))\n",
    "A=numpy.array([input().split() for _ in range(N)],int)\n",
    "B=numpy.array([input().split() for _ in range(N)],int)\n",
    "print(numpy.add(A,B))\n",
    "print(numpy.subtract(A,B))\n",
    "print(numpy.multiply(A,B))\n",
    "print(A//B)\n",
    "print(numpy.mod(A,B))\n",
    "print(numpy.power(A,B))"
   ]
  },
  {
   "cell_type": "code",
   "execution_count": 10,
   "metadata": {},
   "outputs": [
    {
     "name": "stdout",
     "output_type": "stream",
     "text": [
      "1.1 2.2 3.3 4.4 5.5 6.6 7.7 8.8 9.9\n",
      "[ 1.  2.  3.  4.  5.  6.  7.  8.  9.]\n",
      "[  2.   3.   4.   5.   6.   7.   8.   9.  10.]\n",
      "[  1.   2.   3.   4.   6.   7.   8.   9.  10.]\n"
     ]
    }
   ],
   "source": [
    "# Function 8: Floor , ceil and Rint\n",
    "\n",
    "import numpy\n",
    "arr=input().strip().split(' ')\n",
    "a=numpy.array(arr,float)\n",
    "numpy.set_printoptions(sign=' ')\n",
    "print(numpy.floor(a))\n",
    "print(numpy.ceil(a))\n",
    "print(numpy.rint(a))\n"
   ]
  },
  {
   "cell_type": "code",
   "execution_count": 11,
   "metadata": {},
   "outputs": [
    {
     "name": "stdout",
     "output_type": "stream",
     "text": [
      "2 2\n",
      "1 2\n",
      "3 4\n",
      "24\n"
     ]
    }
   ],
   "source": [
    "# Function 9: Sum and Prod\n",
    "\n",
    "import numpy\n",
    "N,M = list(map(int,input().split()))\n",
    "arr=numpy.array([input().split() for _ in range(N)],int)\n",
    "print(numpy.prod(numpy.sum(arr,axis=0),axis=0))\n"
   ]
  },
  {
   "cell_type": "code",
   "execution_count": 12,
   "metadata": {},
   "outputs": [
    {
     "name": "stdout",
     "output_type": "stream",
     "text": [
      "4 2 \n",
      "2 5 \n",
      "3 7 \n",
      "1 3 \n",
      "4 0\n",
      "3\n"
     ]
    }
   ],
   "source": [
    "# Function 10: Min and Max\n",
    "\n",
    "import numpy\n",
    "N,M=list(map(int,input().split()))\n",
    "A=numpy.array([input().split() for _ in range(N)],int)\n",
    "print(numpy.max(numpy.min(A,axis=1)))\n"
   ]
  },
  {
   "cell_type": "code",
   "execution_count": 13,
   "metadata": {},
   "outputs": [
    {
     "name": "stdout",
     "output_type": "stream",
     "text": [
      "2 2\n",
      "1 2\n",
      "3 4\n",
      "[ 1.5  3.5]\n",
      "[ 1.  1.]\n",
      "1.118033988749895\n"
     ]
    }
   ],
   "source": [
    "# Function 11: Mean, var and std\n",
    "\n",
    "import numpy\n",
    "N,M=list(map(int,input().split()))\n",
    "A=numpy.array([input().split() for _ in range(N)],int)\n",
    "print(numpy.mean(A,axis=1))\n",
    "print(numpy.var(A,axis=0))\n",
    "print(numpy.std(A,axis=None))"
   ]
  },
  {
   "cell_type": "code",
   "execution_count": 14,
   "metadata": {},
   "outputs": [
    {
     "name": "stdout",
     "output_type": "stream",
     "text": [
      "2\n",
      "1 2\n",
      "3 4\n",
      "1 2\n",
      "3 4\n",
      "[[ 7 10]\n",
      " [15 22]]\n"
     ]
    }
   ],
   "source": [
    "# Function 12: Dot and cross\n",
    "\n",
    "import numpy\n",
    "N=int(input())\n",
    "A=numpy.array([input().split() for _ in range(N)],int)\n",
    "B=numpy.array([input().split() for _ in range(N)],int)\n",
    "print(numpy.dot(A,B))\n"
   ]
  },
  {
   "cell_type": "code",
   "execution_count": 15,
   "metadata": {},
   "outputs": [
    {
     "name": "stdout",
     "output_type": "stream",
     "text": [
      "0 1\n",
      "2 3\n",
      "3\n",
      "[[0 0]\n",
      " [2 3]]\n"
     ]
    }
   ],
   "source": [
    "# Function 13: Inner and Outer\n",
    "\n",
    "import numpy\n",
    "A=numpy.array(input().split(),int)\n",
    "B=numpy.array(input().split(),int)\n",
    "print(numpy.inner(A,B))\n",
    "print(numpy.outer(A,B))"
   ]
  },
  {
   "cell_type": "code",
   "execution_count": 16,
   "metadata": {},
   "outputs": [
    {
     "name": "stdout",
     "output_type": "stream",
     "text": [
      "1.1 2 3\n",
      "0\n",
      "3.0\n"
     ]
    }
   ],
   "source": [
    "# Function 14: Polynomials\n",
    "\n",
    "import numpy\n",
    "a=list(map(float,input().split()))\n",
    "x=int(input())\n",
    "print(numpy.polyval(a,x))\n"
   ]
  },
  {
   "cell_type": "code",
   "execution_count": 17,
   "metadata": {},
   "outputs": [
    {
     "name": "stdout",
     "output_type": "stream",
     "text": [
      "2\n",
      "1.1 1.1\n",
      "1.1 1.1\n",
      "0.0\n"
     ]
    }
   ],
   "source": [
    "# Function 15: Linear Algebra\n",
    "\n",
    "import numpy\n",
    "n=int(input())\n",
    "A=numpy.array([input().split() for _ in range(n)],float)\n",
    "numpy.set_printoptions(sign=' ')\n",
    "print(numpy.linalg.det(A))\n"
   ]
  },
  {
   "cell_type": "code",
   "execution_count": null,
   "metadata": {},
   "outputs": [],
   "source": []
  }
 ],
 "metadata": {
  "kernelspec": {
   "display_name": "Python 3",
   "language": "python",
   "name": "python3"
  },
  "language_info": {
   "codemirror_mode": {
    "name": "ipython",
    "version": 3
   },
   "file_extension": ".py",
   "mimetype": "text/x-python",
   "name": "python",
   "nbconvert_exporter": "python",
   "pygments_lexer": "ipython3",
   "version": "3.7.6"
  }
 },
 "nbformat": 4,
 "nbformat_minor": 4
}
